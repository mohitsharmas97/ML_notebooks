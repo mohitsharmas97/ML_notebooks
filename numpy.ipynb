{
  "nbformat": 4,
  "nbformat_minor": 0,
  "metadata": {
    "colab": {
      "provenance": [],
      "authorship_tag": "ABX9TyPBoNF0Bs3jXsPQNxkHSq2L",
      "include_colab_link": true
    },
    "kernelspec": {
      "name": "python3",
      "display_name": "Python 3"
    },
    "language_info": {
      "name": "python"
    }
  },
  "cells": [
    {
      "cell_type": "markdown",
      "metadata": {
        "id": "view-in-github",
        "colab_type": "text"
      },
      "source": [
        "<a href=\"https://colab.research.google.com/github/mohitsharmas97/ML_notebooks/blob/main/numpy.ipynb\" target=\"_parent\"><img src=\"https://colab.research.google.com/assets/colab-badge.svg\" alt=\"Open In Colab\"/></a>"
      ]
    },
    {
      "cell_type": "code",
      "execution_count": null,
      "metadata": {
        "id": "yzOUeaKRC0xL"
      },
      "outputs": [],
      "source": [
        "import numpy as np"
      ]
    },
    {
      "cell_type": "markdown",
      "source": [],
      "metadata": {
        "id": "OA62hBi7Dyg8"
      }
    },
    {
      "cell_type": "code",
      "source": [
        "arr=np.array([[10,20,30,40],[50,60,70,80]])\n",
        "print(arr[0,1:3])\n",
        "print(arr[1])"
      ],
      "metadata": {
        "colab": {
          "base_uri": "https://localhost:8080/"
        },
        "id": "DJUAjehyDB8C",
        "outputId": "c798449a-43c9-401c-9d59-f4b3b138418d"
      },
      "execution_count": null,
      "outputs": [
        {
          "output_type": "stream",
          "name": "stdout",
          "text": [
            "[20 30]\n",
            "[70 80]\n"
          ]
        }
      ]
    },
    {
      "cell_type": "code",
      "source": [
        "print(np.shape(arr))\n",
        "print(np.size(arr))\n",
        "print(np.ndim(arr)) #dimension\n",
        "print(arr.dtype)"
      ],
      "metadata": {
        "colab": {
          "base_uri": "https://localhost:8080/"
        },
        "id": "E6sBzRAkEVwj",
        "outputId": "0846adaf-e80e-40bc-d579-d5c9a8235e9f"
      },
      "execution_count": null,
      "outputs": [
        {
          "output_type": "stream",
          "name": "stdout",
          "text": [
            "(2, 4)\n",
            "8\n",
            "2\n",
            "int64\n"
          ]
        }
      ]
    },
    {
      "cell_type": "markdown",
      "source": [
        "Inspecting an array\n"
      ],
      "metadata": {
        "id": "sfiD0MgUE03P"
      }
    },
    {
      "cell_type": "code",
      "source": [
        "a=[30,40,30],[40,30,10];\n",
        "arr=np.array(a)\n",
        "print(arr)\n",
        "print(arr.shape)\n",
        "print(len(arr))\n",
        "print(np.size(arr))\n",
        "print(type(arr))\n",
        "print(arr.dtype)\n",
        "print(arr.astype(float))"
      ],
      "metadata": {
        "colab": {
          "base_uri": "https://localhost:8080/"
        },
        "id": "4Bjgqlk3E3Pq",
        "outputId": "19061bd1-88ec-4fcf-a69c-f57b6cbce3d8"
      },
      "execution_count": null,
      "outputs": [
        {
          "output_type": "stream",
          "name": "stdout",
          "text": [
            "[[30 40 30]\n",
            " [40 30 10]]\n",
            "(2, 3)\n",
            "2\n",
            "6\n",
            "<class 'numpy.ndarray'>\n",
            "int64\n",
            "[[30. 40. 30.]\n",
            " [40. 30. 10.]]\n"
          ]
        }
      ]
    },
    {
      "cell_type": "markdown",
      "source": [
        "Mathematical operations and functions on arrays\n"
      ],
      "metadata": {
        "id": "09Emm5WyGz9U"
      }
    },
    {
      "cell_type": "code",
      "source": [
        "arr1=np.array([30,40,10,10])\n",
        "arr2=np.array([10,20,30,40])\n",
        "print(arr1+arr2)\n",
        "print(arr1-arr2)\n",
        "print(arr1*arr2)\n",
        "print(arr1/arr2)"
      ],
      "metadata": {
        "colab": {
          "base_uri": "https://localhost:8080/"
        },
        "id": "26xQTu3_G31S",
        "outputId": "360deab5-10c3-4fac-9fc6-802a95427ab0"
      },
      "execution_count": null,
      "outputs": [
        {
          "output_type": "stream",
          "name": "stdout",
          "text": [
            "[40 60 40 50]\n",
            "[ 20  20 -20 -30]\n",
            "[300 800 300 400]\n",
            "[3.         2.         0.33333333 0.25      ]\n"
          ]
        }
      ]
    },
    {
      "cell_type": "code",
      "source": [
        "print(np.add(arr1,arr2))\n",
        "print(np.subtract(arr1,arr2))"
      ],
      "metadata": {
        "colab": {
          "base_uri": "https://localhost:8080/"
        },
        "id": "JO7nW8HdF8m6",
        "outputId": "f0982ba2-a89b-438f-c9be-778a068f9972"
      },
      "execution_count": null,
      "outputs": [
        {
          "output_type": "stream",
          "name": "stdout",
          "text": [
            "[40 60 40 50]\n",
            "[ 20  20 -20 -30]\n"
          ]
        }
      ]
    },
    {
      "cell_type": "code",
      "source": [
        "arr1=np.array([3,4,2,1])\n",
        "arr2=np.array([2])\n",
        "print(np.power(arr1,arr2))\n"
      ],
      "metadata": {
        "colab": {
          "base_uri": "https://localhost:8080/"
        },
        "id": "vCKyNIuyIive",
        "outputId": "226dae88-e5e1-41e6-fb7c-c6c27952333c"
      },
      "execution_count": null,
      "outputs": [
        {
          "output_type": "stream",
          "name": "stdout",
          "text": [
            "[ 9 16  4  1]\n"
          ]
        }
      ]
    },
    {
      "cell_type": "code",
      "source": [
        "arr1=np.array([9,16,4,1])\n",
        "print(np.sqrt(arr1))"
      ],
      "metadata": {
        "colab": {
          "base_uri": "https://localhost:8080/"
        },
        "id": "qlExNcyFI1ko",
        "outputId": "64c65660-c9b6-41f3-ce0f-04bb47a8f414"
      },
      "execution_count": null,
      "outputs": [
        {
          "output_type": "stream",
          "name": "stdout",
          "text": [
            "[3. 4. 2. 1.]\n"
          ]
        }
      ]
    },
    {
      "cell_type": "markdown",
      "source": [
        "Combining and Splitting\n"
      ],
      "metadata": {
        "id": "dRq6_DpBJNNM"
      }
    },
    {
      "cell_type": "code",
      "source": [
        " a=[12,4,5]\n",
        " b=[3,4,5]\n",
        " print(a+b)"
      ],
      "metadata": {
        "colab": {
          "base_uri": "https://localhost:8080/"
        },
        "id": "KDIBdoyAJPVf",
        "outputId": "0faf808e-b015-4f41-ae56-a183934a286b"
      },
      "execution_count": null,
      "outputs": [
        {
          "output_type": "stream",
          "name": "stdout",
          "text": [
            "[12, 4, 5, 3, 4, 5]\n"
          ]
        }
      ]
    },
    {
      "cell_type": "code",
      "source": [
        "import numpy as np\n",
        "ar1=np.array([1,2,3])\n",
        "ar2=np.array([4,5,6])\n",
        "# arr=np.concatenate((arr1,arr2))\n",
        "# print(arr)"
      ],
      "metadata": {
        "id": "JolG6HXSKbAx"
      },
      "execution_count": null,
      "outputs": []
    },
    {
      "cell_type": "code",
      "source": [
        "print(np.hstack([ar1,ar2])) #horizontal concatenation"
      ],
      "metadata": {
        "colab": {
          "base_uri": "https://localhost:8080/"
        },
        "id": "z3XHNdyEKtXE",
        "outputId": "052c1396-1c02-4a0d-9678-85d96d2519ae"
      },
      "execution_count": null,
      "outputs": [
        {
          "output_type": "stream",
          "name": "stdout",
          "text": [
            "[1 2 3 4 5 6]\n"
          ]
        }
      ]
    },
    {
      "cell_type": "code",
      "source": [
        "print(np.vstack([ar1,ar2]))  #vertical concatenantion"
      ],
      "metadata": {
        "colab": {
          "base_uri": "https://localhost:8080/"
        },
        "id": "UvZVEn5mLgyZ",
        "outputId": "d6a9b25d-d785-4b7e-d879-669373de7ad2"
      },
      "execution_count": null,
      "outputs": [
        {
          "output_type": "stream",
          "name": "stdout",
          "text": [
            "[[1 2 3]\n",
            " [4 5 6]]\n"
          ]
        }
      ]
    },
    {
      "cell_type": "code",
      "source": [
        "p=np.array([1,2,3,4,5,6])\n",
        "print(np.array_split(p,4))"
      ],
      "metadata": {
        "colab": {
          "base_uri": "https://localhost:8080/"
        },
        "id": "KMf4cz8dLpzD",
        "outputId": "2bd3fc73-2a60-4354-cc16-5fdbcf6ea8c5"
      },
      "execution_count": null,
      "outputs": [
        {
          "output_type": "stream",
          "name": "stdout",
          "text": [
            "[array([1, 2]), array([3, 4]), array([5]), array([6])]\n"
          ]
        }
      ]
    },
    {
      "cell_type": "markdown",
      "source": [
        "adding and removing elements in an array\n"
      ],
      "metadata": {
        "id": "saJ_qkw7MOGO"
      }
    },
    {
      "cell_type": "code",
      "source": [
        "import numpy as np\n",
        "\n",
        "l=np.array([1,2,3,4])\n",
        "print(np.append(l,[5,6]))"
      ],
      "metadata": {
        "colab": {
          "base_uri": "https://localhost:8080/"
        },
        "id": "9R6-80eXMSwK",
        "outputId": "e1985feb-20d7-4bc2-f561-833021029d75"
      },
      "execution_count": null,
      "outputs": [
        {
          "output_type": "stream",
          "name": "stdout",
          "text": [
            "[1 2 3 4 5 6]\n"
          ]
        }
      ]
    },
    {
      "cell_type": "code",
      "source": [
        "print(np.insert(l,1,10)) #array,index,val"
      ],
      "metadata": {
        "colab": {
          "base_uri": "https://localhost:8080/"
        },
        "id": "i5-j3WLMMqxV",
        "outputId": "ae8a91bc-56b2-4fac-8c11-fb13749c04e6"
      },
      "execution_count": null,
      "outputs": [
        {
          "output_type": "stream",
          "name": "stdout",
          "text": [
            "[ 1 10  2  3  4]\n"
          ]
        }
      ]
    },
    {
      "cell_type": "code",
      "source": [
        "print(np.delete(l,2))"
      ],
      "metadata": {
        "colab": {
          "base_uri": "https://localhost:8080/"
        },
        "id": "eC0BLYcMM-Ey",
        "outputId": "909a2558-070d-4602-e915-aa90400e7f32"
      },
      "execution_count": null,
      "outputs": [
        {
          "output_type": "stream",
          "name": "stdout",
          "text": [
            "[1 2 4]\n"
          ]
        }
      ]
    },
    {
      "cell_type": "markdown",
      "source": [
        "sort ,filter and search\n"
      ],
      "metadata": {
        "id": "Wr_TLtszOEjn"
      }
    },
    {
      "cell_type": "code",
      "source": [
        "k=np.array([2,3,1,8])\n",
        "# print(np.sort(k))\n",
        "\n",
        "# s=np.where(k==8)\n",
        "# print(s)\n",
        "\n",
        "# ss=np.searchsorted(k,4)\n",
        "# print(ss)\n",
        "\n",
        "# fa=[True,False,True,False]\n",
        "# print(k[fa])\n",
        "\n"
      ],
      "metadata": {
        "colab": {
          "base_uri": "https://localhost:8080/",
          "height": 211
        },
        "id": "EsrYmcnkOGpR",
        "outputId": "347a7081-36d8-4463-aa93-1083392cf9a1"
      },
      "execution_count": null,
      "outputs": [
        {
          "output_type": "error",
          "ename": "NameError",
          "evalue": "name 'np' is not defined",
          "traceback": [
            "\u001b[0;31m---------------------------------------------------------------------------\u001b[0m",
            "\u001b[0;31mNameError\u001b[0m                                 Traceback (most recent call last)",
            "\u001b[0;32m/tmp/ipython-input-2-4130208223.py\u001b[0m in \u001b[0;36m<cell line: 0>\u001b[0;34m()\u001b[0m\n\u001b[0;32m----> 1\u001b[0;31m \u001b[0mk\u001b[0m\u001b[0;34m=\u001b[0m\u001b[0mnp\u001b[0m\u001b[0;34m.\u001b[0m\u001b[0marray\u001b[0m\u001b[0;34m(\u001b[0m\u001b[0;34m[\u001b[0m\u001b[0;36m2\u001b[0m\u001b[0;34m,\u001b[0m\u001b[0;36m3\u001b[0m\u001b[0;34m,\u001b[0m\u001b[0;36m1\u001b[0m\u001b[0;34m,\u001b[0m\u001b[0;36m8\u001b[0m\u001b[0;34m]\u001b[0m\u001b[0;34m)\u001b[0m\u001b[0;34m\u001b[0m\u001b[0;34m\u001b[0m\u001b[0m\n\u001b[0m\u001b[1;32m      2\u001b[0m \u001b[0;31m# print(np.sort(k))\u001b[0m\u001b[0;34m\u001b[0m\u001b[0;34m\u001b[0m\u001b[0m\n\u001b[1;32m      3\u001b[0m \u001b[0;34m\u001b[0m\u001b[0m\n\u001b[1;32m      4\u001b[0m \u001b[0;31m# s=np.where(k==8)\u001b[0m\u001b[0;34m\u001b[0m\u001b[0;34m\u001b[0m\u001b[0m\n\u001b[1;32m      5\u001b[0m \u001b[0;31m# print(s)\u001b[0m\u001b[0;34m\u001b[0m\u001b[0;34m\u001b[0m\u001b[0m\n",
            "\u001b[0;31mNameError\u001b[0m: name 'np' is not defined"
          ]
        }
      ]
    },
    {
      "cell_type": "markdown",
      "source": [
        "Aggregate functions in numpy"
      ],
      "metadata": {
        "id": "mJRQm-sWP2Mp"
      }
    },
    {
      "cell_type": "code",
      "source": [
        "c=np.array([20,40,60])\n",
        "print(np.sum(c))\n",
        "print(np.min(c))\n",
        "print(np.max(c))\n",
        "print(np.mean(c))\n",
        "print(np.size(c))\n",
        "print(np.median(c))\n",
        "print(np.cumsum(c))\n",
        "print(np.cumprod(c))\n"
      ],
      "metadata": {
        "colab": {
          "base_uri": "https://localhost:8080/"
        },
        "id": "HnoTFGN6P4RQ",
        "outputId": "105ebe81-4893-48e1-ec70-09aed5837570"
      },
      "execution_count": null,
      "outputs": [
        {
          "output_type": "stream",
          "name": "stdout",
          "text": [
            "120\n",
            "20\n",
            "60\n",
            "40.0\n",
            "3\n",
            "40.0\n",
            "[ 20  60 120]\n",
            "[   20   800 48000]\n"
          ]
        }
      ]
    },
    {
      "cell_type": "markdown",
      "source": [
        "Statistical Functions Numpy\n"
      ],
      "metadata": {
        "id": "HlO_jKK9RYJc"
      }
    },
    {
      "cell_type": "code",
      "source": [
        "import statistics as stats\n",
        "baked_food=[200,300,150,130,200,280,170,188]\n",
        "a1=np.array(baked_food)\n",
        "print(np.mean(baked_food)) #sum of all values divided by no of values\n",
        "print(np.median(baked_food)) #centre value after sorting --median\n",
        "print(stats.mode(baked_food)) #more occuring value\n",
        "print(np.std(baked_food))"
      ],
      "metadata": {
        "colab": {
          "base_uri": "https://localhost:8080/"
        },
        "id": "ZjmN47wVRc-t",
        "outputId": "27b5f479-af82-467e-a163-15616d85f4a2"
      },
      "execution_count": null,
      "outputs": [
        {
          "output_type": "stream",
          "name": "stdout",
          "text": [
            "202.25\n",
            "194.0\n",
            "200\n",
            "55.68157235567257\n"
          ]
        }
      ]
    },
    {
      "cell_type": "code",
      "source": [
        "# -1 represents inversely proportional relationship\n",
        "# 1 represents proportional relationship\n",
        "# 0 means no relationship\n",
        "tobacco_consumption=[30,20,50,10,40]\n",
        "deaths=[100,120,70,100,12]\n",
        "print(np.corrcoef([tobacco_consumption,deaths]))"
      ],
      "metadata": {
        "colab": {
          "base_uri": "https://localhost:8080/"
        },
        "id": "8t2OlEWgTNnp",
        "outputId": "b33da017-fb33-4bac-b024-e2c44b53f928"
      },
      "execution_count": null,
      "outputs": [
        {
          "output_type": "stream",
          "name": "stdout",
          "text": [
            "[[ 1.         -0.62946518]\n",
            " [-0.62946518  1.        ]]\n"
          ]
        }
      ]
    },
    {
      "cell_type": "code",
      "source": [],
      "metadata": {
        "id": "m1d29R7XT9j8"
      },
      "execution_count": null,
      "outputs": []
    }
  ]
}